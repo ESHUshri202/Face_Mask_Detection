{
 "cells": [
  {
   "cell_type": "markdown",
   "id": "c13ed0b0",
   "metadata": {},
   "source": [
    "# Data Preprocessing & Training the CNN Model"
   ]
  },
  {
   "cell_type": "code",
   "execution_count": 3,
   "id": "8b28bf3d",
   "metadata": {},
   "outputs": [],
   "source": [
    "import warnings\n",
    "warnings.filterwarnings('ignore')\n",
    "import cv2\n",
    "import numpy as np\n",
    "import os\n",
    "import matplotlib.pyplot as plt\n",
    "from sklearn.model_selection import train_test_split\n",
    "from keras.preprocessing.image import ImageDataGenerator\n",
    "from keras.utils import to_categorical\n",
    "from keras.models import Sequential\n",
    "from keras.layers import Conv2D, Dense, MaxPooling2D, Activation, Dropout, Flatten\n",
    "from keras.optimizers import Adam"
   ]
  },
  {
   "cell_type": "code",
   "execution_count": 4,
   "id": "2e48aaac",
   "metadata": {},
   "outputs": [],
   "source": [
    "path='images'\n",
    "images=[]\n",
    "classNo=[]\n",
    "testRatio=0.2\n",
    "valRatio=0.2\n",
    "imgDimension=(32,32,3)"
   ]
  },
  {
   "cell_type": "code",
   "execution_count": 5,
   "id": "b218a65b",
   "metadata": {},
   "outputs": [
    {
     "name": "stdout",
     "output_type": "stream",
     "text": [
      "Importing Classes..........\n",
      "0\n",
      "1\n"
     ]
    }
   ],
   "source": [
    "myList=os.listdir(path)\n",
    "\n",
    "numOfClasses=len(myList)\n",
    "\n",
    "# print(numOfClasses)\n",
    "\n",
    "print(\"Importing Classes..........\")\n",
    "for x in range(0, numOfClasses):\n",
    "\tmyPicList=os.listdir(path+\"/\"+str(x))\n",
    "\t# myData/0/img.jpg\n",
    "\tfor y in myPicList:\n",
    "\t\tcurImg=cv2.imread(path+\"/\"+str(x)+\"/\"+y)\n",
    "\t\tcurImg=cv2.resize(curImg,(imgDimension[0],imgDimension[1]))\n",
    "\t\timages.append(curImg)\n",
    "\t\tclassNo.append(x)\n",
    "\tprint(x)\n",
    "\n",
    "images=np.array(images)\n",
    "classNo=np.array(classNo)"
   ]
  },
  {
   "cell_type": "code",
   "execution_count": 6,
   "id": "3268f345",
   "metadata": {},
   "outputs": [],
   "source": [
    "#spliting the data\n",
    "x_train, x_test, y_train, y_test=train_test_split(images, classNo, test_size=testRatio)\n",
    "x_train, x_validation, y_train, y_validation=train_test_split(x_train, y_train, test_size=valRatio)"
   ]
  },
  {
   "cell_type": "code",
   "execution_count": 7,
   "id": "78a1c281",
   "metadata": {},
   "outputs": [
    {
     "data": {
      "image/png": "[encoded data removed]",
      "text/plain": [
       "<Figure size 1000x500 with 1 Axes>"
      ]
     },
     "metadata": {},
     "output_type": "display_data"
    }
   ],
   "source": [
    "numOfSample=[]\n",
    "\n",
    "for x in range(0,numOfClasses):\n",
    "\tnumOfSample.append(len(np.where(y_train==x)[0]))\n",
    "\n",
    "\n",
    "plt.figure(figsize=(10,5))\n",
    "plt.bar(range(0, numOfClasses),numOfSample)\n",
    "plt.title(\"Bar Plot of Classes & Images\")\n",
    "plt.xlabel(\"No Of Classes\")\n",
    "plt.ylabel(\"No of Images\")\n",
    "plt.show()"
   ]
  },
  {
   "cell_type": "code",
   "execution_count": 8,
   "id": "59ea2265",
   "metadata": {},
   "outputs": [],
   "source": [
    "def preprocessing(img):\n",
    "\t# img=np.astype(\"uint8\")\n",
    "\timg=cv2.cvtColor(img, cv2.COLOR_BGR2GRAY)\n",
    "\timg=cv2.equalizeHist(img)\n",
    "\timg=img/255\n",
    "\treturn img"
   ]
  },
  {
   "cell_type": "code",
   "execution_count": 9,
   "id": "2d6331c0",
   "metadata": {},
   "outputs": [],
   "source": [
    "x_train=np.array(list(map(preprocessing, x_train)))\n",
    "x_test=np.array(list(map(preprocessing, x_test)))\n",
    "x_validation=np.array(list(map(preprocessing, x_validation)))"
   ]
  },
  {
   "cell_type": "code",
   "execution_count": 10,
   "id": "8c9c91b2",
   "metadata": {},
   "outputs": [],
   "source": [
    "x_train=x_train.reshape(x_train.shape[0], x_train.shape[1], x_train.shape[2],1)\n",
    "x_test=x_test.reshape(x_test.shape[0], x_test.shape[1], x_test.shape[2],1)\n",
    "x_validation=x_validation.reshape(x_validation.shape[0], x_validation.shape[1], x_validation.shape[2],1)"
   ]
  },
  {
   "cell_type": "code",
   "execution_count": 11,
   "id": "a4fb3120",
   "metadata": {},
   "outputs": [],
   "source": [
    "dataGen=ImageDataGenerator(\n",
    "\twidth_shift_range=0.1,\n",
    "\theight_shift_range=0.1,\n",
    "\tzoom_range=0.2,\n",
    "\tshear_range=0.1,\n",
    "\trotation_range=10)"
   ]
  },
  {
   "cell_type": "code",
   "execution_count": 12,
   "id": "02a7686b",
   "metadata": {},
   "outputs": [],
   "source": [
    "dataGen.fit(x_train)"
   ]
  },
  {
   "cell_type": "code",
   "execution_count": 13,
   "id": "6b185b9e",
   "metadata": {},
   "outputs": [],
   "source": [
    "y_train=to_categorical(y_train, numOfClasses)\n",
    "y_test=to_categorical(y_test, numOfClasses)\n",
    "y_validation=to_categorical(y_validation, numOfClasses)"
   ]
  },
  {
   "cell_type": "code",
   "execution_count": 14,
   "id": "2b3d260a",
   "metadata": {},
   "outputs": [],
   "source": [
    "def myModel():\n",
    "\tsizeOfFilter1=(3,3)\n",
    "\tsizeOfFilter2=(3,3)\n",
    "\tsizeOfPool=(2,2)\n",
    "\n",
    "\tmodel=Sequential()\n",
    "\tmodel.add((Conv2D(32, sizeOfFilter1, input_shape=(imgDimension[0],imgDimension[1],1),activation='relu')))\n",
    "\tmodel.add((Conv2D(32, sizeOfFilter1,activation='relu')))\n",
    "\tmodel.add(MaxPooling2D(pool_size=sizeOfPool))\n",
    "\n",
    "\tmodel.add((Conv2D(64, sizeOfFilter2,activation='relu')))\n",
    "\tmodel.add((Conv2D(64, sizeOfFilter2,activation='relu')))\n",
    "\tmodel.add(MaxPooling2D(pool_size=sizeOfPool))\n",
    "\tmodel.add(Dropout(0.5))\n",
    "\n",
    "\n",
    "\tmodel.add(Flatten())\n",
    "\tmodel.add(Dense(64, activation='relu'))\n",
    "\tmodel.add(Dropout(0.5))\n",
    "\tmodel.add(Dense(numOfClasses, activation='softmax'))\n",
    "\tmodel.compile(Adam(lr=0.001),loss='categorical_crossentropy',metrics=['accuracy'])\n",
    "\treturn model\n"
   ]
  },
  {
   "cell_type": "code",
   "execution_count": 15,
   "id": "e871c8ea",
   "metadata": {},
   "outputs": [
    {
     "name": "stdout",
     "output_type": "stream",
     "text": [
      "WARNING:tensorflow:From C:\\Users\\Red Devil\\anaconda3.4\\lib\\site-packages\\keras\\src\\backend.py:873: The name tf.get_default_graph is deprecated. Please use tf.compat.v1.get_default_graph instead.\n",
      "\n",
      "WARNING:tensorflow:From C:\\Users\\Red Devil\\anaconda3.4\\lib\\site-packages\\keras\\src\\layers\\pooling\\max_pooling2d.py:161: The name tf.nn.max_pool is deprecated. Please use tf.nn.max_pool2d instead.\n",
      "\n"
     ]
    },
    {
     "name": "stderr",
     "output_type": "stream",
     "text": [
      "WARNING:absl:`lr` is deprecated in Keras optimizer, please use `learning_rate` or use the legacy optimizer, e.g.,tf.keras.optimizers.legacy.Adam.\n"
     ]
    },
    {
     "name": "stdout",
     "output_type": "stream",
     "text": [
      "Model: \"sequential\"\n",
      "_________________________________________________________________\n",
      " Layer (type)                Output Shape              Param #   \n",
      "=================================================================\n",
      " conv2d (Conv2D)             (None, 30, 30, 32)        320       \n",
      "                                                                 \n",
      " conv2d_1 (Conv2D)           (None, 28, 28, 32)        9248      \n",
      "                                                                 \n",
      " max_pooling2d (MaxPooling2  (None, 14, 14, 32)        0         \n",
      " D)                                                              \n",
      "                                                                 \n",
      " conv2d_2 (Conv2D)           (None, 12, 12, 64)        18496     \n",
      "                                                                 \n",
      " conv2d_3 (Conv2D)           (None, 10, 10, 64)        36928     \n",
      "                                                                 \n",
      " max_pooling2d_1 (MaxPoolin  (None, 5, 5, 64)          0         \n",
      " g2D)                                                            \n",
      "                                                                 \n",
      " dropout (Dropout)           (None, 5, 5, 64)          0         \n",
      "                                                                 \n",
      " flatten (Flatten)           (None, 1600)              0         \n",
      "                                                                 \n",
      " dense (Dense)               (None, 64)                102464    \n",
      "                                                                 \n",
      " dropout_1 (Dropout)         (None, 64)                0         \n",
      "                                                                 \n",
      " dense_1 (Dense)             (None, 2)                 130       \n",
      "                                                                 \n",
      "=================================================================\n",
      "Total params: 167586 (654.63 KB)\n",
      "Trainable params: 167586 (654.63 KB)\n",
      "Non-trainable params: 0 (0.00 Byte)\n",
      "_________________________________________________________________\n",
      "None\n"
     ]
    }
   ],
   "source": [
    "model=myModel()\n",
    "print(model.summary())"
   ]
  },
  {
   "cell_type": "code",
   "execution_count": 16,
   "id": "d1c550cb",
   "metadata": {},
   "outputs": [
    {
     "name": "stdout",
     "output_type": "stream",
     "text": [
      "Epoch 1/2\n",
      "WARNING:tensorflow:From C:\\Users\\Red Devil\\anaconda3.4\\lib\\site-packages\\keras\\src\\utils\\tf_utils.py:492: The name tf.ragged.RaggedTensorValue is deprecated. Please use tf.compat.v1.ragged.RaggedTensorValue instead.\n",
      "\n"
     ]
    },
    {
     "name": "stderr",
     "output_type": "stream",
     "text": [
      "WARNING:tensorflow:From C:\\Users\\Red Devil\\anaconda3.4\\lib\\site-packages\\keras\\src\\utils\\tf_utils.py:492: The name tf.ragged.RaggedTensorValue is deprecated. Please use tf.compat.v1.ragged.RaggedTensorValue instead.\n",
      "\n"
     ]
    },
    {
     "name": "stdout",
     "output_type": "stream",
     "text": [
      "WARNING:tensorflow:From C:\\Users\\Red Devil\\anaconda3.4\\lib\\site-packages\\keras\\src\\engine\\base_layer_utils.py:384: The name tf.executing_eagerly_outside_functions is deprecated. Please use tf.compat.v1.executing_eagerly_outside_functions instead.\n",
      "\n"
     ]
    },
    {
     "name": "stderr",
     "output_type": "stream",
     "text": [
      "WARNING:tensorflow:From C:\\Users\\Red Devil\\anaconda3.4\\lib\\site-packages\\keras\\src\\engine\\base_layer_utils.py:384: The name tf.executing_eagerly_outside_functions is deprecated. Please use tf.compat.v1.executing_eagerly_outside_functions instead.\n",
      "\n"
     ]
    },
    {
     "name": "stdout",
     "output_type": "stream",
     "text": [
      "   3/1000 [..............................] - ETA: 1:41 - loss: 0.6919 - accuracy: 0.5143WARNING:tensorflow:Your input ran out of data; interrupting training. Make sure that your dataset or generator can generate at least `steps_per_epoch * epochs` batches (in this case, 2000 batches). You may need to use the repeat() function when building your dataset.\n"
     ]
    },
    {
     "name": "stderr",
     "output_type": "stream",
     "text": [
      "WARNING:tensorflow:Your input ran out of data; interrupting training. Make sure that your dataset or generator can generate at least `steps_per_epoch * epochs` batches (in this case, 2000 batches). You may need to use the repeat() function when building your dataset.\n"
     ]
    },
    {
     "name": "stdout",
     "output_type": "stream",
     "text": [
      "\b\b\b\b\b\b\b\b\b\b\b\b\b\b\b\b\b\b\b\b\b\b\b\b\b\b\b\b\b\b\b\b\b\b\b\b\b\b\b\b\b\b\b\b\b\b\b\b\b\b\b\b\b\b\b\b\b\b\b\b\b\b\b\b\b\b\b\b\b\b\b\b\b\b\b\b\b\b\b\b\b\b\b\b\b\b\b\b\r",
      "1000/1000 [==============================] - 3s 928us/step - loss: 0.6919 - accuracy: 0.5143 - val_loss: 0.6866 - val_accuracy: 0.3889\n"
     ]
    }
   ],
   "source": [
    "history=model.fit_generator(dataGen.flow(x_train, y_train,batch_size=50),\n",
    "\tsteps_per_epoch=1000,\n",
    "\tepochs=2,\n",
    "\tvalidation_data=(x_validation,y_validation),\n",
    "\tshuffle=1)\n",
    "\n",
    "model.save(\"MyTrainingModel.h5\")"
   ]
  },
  {
   "cell_type": "code",
   "execution_count": null,
   "id": "175f83a6",
   "metadata": {},
   "outputs": [],
   "source": []
  }
 ],
 "metadata": {
  "kernelspec": {
   "display_name": "Python 3 (ipykernel)",
   "language": "python",
   "name": "python3"
  },
  "language_info": {
   "codemirror_mode": {
    "name": "ipython",
    "version": 3
   },
   "file_extension": ".py",
   "mimetype": "text/x-python",
   "name": "python",
   "nbconvert_exporter": "python",
   "pygments_lexer": "ipython3",
   "version": "3.10.9"
  }
 },
 "nbformat": 4,
 "nbformat_minor": 5
}
